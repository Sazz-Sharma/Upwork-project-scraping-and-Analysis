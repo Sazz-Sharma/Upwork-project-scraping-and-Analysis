{
 "cells": [
  {
   "cell_type": "code",
   "execution_count": 89,
   "id": "acbe3d21",
   "metadata": {},
   "outputs": [],
   "source": [
    "from selenium import webdriver\n",
    "from selenium.webdriver.common.by import By\n"
   ]
  },
  {
   "cell_type": "code",
   "execution_count": 85,
   "id": "1e641d20",
   "metadata": {},
   "outputs": [],
   "source": []
  },
  {
   "cell_type": "code",
   "execution_count": 41,
   "id": "fa613376",
   "metadata": {},
   "outputs": [],
   "source": [
    "# page_count = 1\n",
    "# url = f\"https://www.upwork.com/nx/search/jobs/?amount=100-499%2C500-999%2C1000-4999%2C5000-&category2_uid=531770282580668418&duration_v3=months&page={page_count}&per_page=50&q=web&sort=recency&t=1\""
   ]
  },
  {
   "cell_type": "code",
   "execution_count": 8,
   "id": "ea600832",
   "metadata": {},
   "outputs": [],
   "source": []
  },
  {
   "cell_type": "code",
   "execution_count": 90,
   "id": "c250bd40",
   "metadata": {},
   "outputs": [],
   "source": [
    "\n",
    "jobs_class = \"job-tile\"\n",
    "job_title = \"job-tile-title\"\n",
    "\n",
    "# budget_xpath = f'//*[@id=\"main\"]/div/div/div/div[2]/div[3]/section/article[{article_count}]/div[2]/ul/li[3]/strong[2]'\n",
    "\n",
    "# //*[@id=\"main\"]/div/div/div/div[2]/div[3]/section/article[2]/div[2]/ul/li[3]/strong[2]"
   ]
  },
  {
   "cell_type": "code",
   "execution_count": 91,
   "id": "2079f358",
   "metadata": {},
   "outputs": [],
   "source": [
    "title = []\n",
    "skill_set = []\n",
    "budget = []\n",
    "description = []"
   ]
  },
  {
   "cell_type": "code",
   "execution_count": 92,
   "id": "cd7886ed",
   "metadata": {},
   "outputs": [
    {
     "ename": "NoSuchElementException",
     "evalue": "Message: no such element: Unable to locate element: {\"method\":\"xpath\",\"selector\":\"//*[@id=\"main\"]/div/div/div/div[2]/div[3]/section/article[25]/div[2]/ul/li[3]/strong[2]\"}\n  (Session info: chrome=123.0.6312.86); For documentation on this error, please visit: https://www.selenium.dev/documentation/webdriver/troubleshooting/errors#no-such-element-exception\nStacktrace:\n\tGetHandleVerifier [0x00007FF7AB6870C2+63090]\n\t(No symbol) [0x00007FF7AB5F2D12]\n\t(No symbol) [0x00007FF7AB48EC65]\n\t(No symbol) [0x00007FF7AB4D499D]\n\t(No symbol) [0x00007FF7AB4D4ADC]\n\t(No symbol) [0x00007FF7AB4CA0AC]\n\t(No symbol) [0x00007FF7AB4F701F]\n\t(No symbol) [0x00007FF7AB4CA00A]\n\t(No symbol) [0x00007FF7AB4F71F0]\n\t(No symbol) [0x00007FF7AB513412]\n\t(No symbol) [0x00007FF7AB4F6D83]\n\t(No symbol) [0x00007FF7AB4C83A8]\n\t(No symbol) [0x00007FF7AB4C9441]\n\tGetHandleVerifier [0x00007FF7ABA8262D+4238301]\n\tGetHandleVerifier [0x00007FF7ABABF78D+4488509]\n\tGetHandleVerifier [0x00007FF7ABAB7A6F+4456479]\n\tGetHandleVerifier [0x00007FF7AB760606+953270]\n\t(No symbol) [0x00007FF7AB5FE5DF]\n\t(No symbol) [0x00007FF7AB5F92B4]\n\t(No symbol) [0x00007FF7AB5F93EB]\n\t(No symbol) [0x00007FF7AB5E9C24]\n\tBaseThreadInitThunk [0x00007FFF07B4257D+29]\n\tRtlUserThreadStart [0x00007FFF087EAA58+40]\n",
     "output_type": "error",
     "traceback": [
      "\u001b[1;31m---------------------------------------------------------------------------\u001b[0m",
      "\u001b[1;31mNoSuchElementException\u001b[0m                    Traceback (most recent call last)",
      "Cell \u001b[1;32mIn[92], line 9\u001b[0m\n\u001b[0;32m      7\u001b[0m skills \u001b[38;5;241m=\u001b[39m []\n\u001b[0;32m      8\u001b[0m title\u001b[38;5;241m.\u001b[39mappend(job\u001b[38;5;241m.\u001b[39mfind_element(By\u001b[38;5;241m.\u001b[39mCLASS_NAME, job_title)\u001b[38;5;241m.\u001b[39mtext)\n\u001b[1;32m----> 9\u001b[0m budget\u001b[38;5;241m.\u001b[39mappend(\u001b[43mjob\u001b[49m\u001b[38;5;241;43m.\u001b[39;49m\u001b[43mfind_element\u001b[49m\u001b[43m(\u001b[49m\u001b[43mBy\u001b[49m\u001b[38;5;241;43m.\u001b[39;49m\u001b[43mXPATH\u001b[49m\u001b[43m,\u001b[49m\u001b[43m \u001b[49m\u001b[38;5;124;43mf\u001b[39;49m\u001b[38;5;124;43m'\u001b[39;49m\u001b[38;5;124;43m//*[@id=\u001b[39;49m\u001b[38;5;124;43m\"\u001b[39;49m\u001b[38;5;124;43mmain\u001b[39;49m\u001b[38;5;124;43m\"\u001b[39;49m\u001b[38;5;124;43m]/div/div/div/div[2]/div[3]/section/article[\u001b[39;49m\u001b[38;5;132;43;01m{\u001b[39;49;00m\u001b[43marticle_count\u001b[49m\u001b[38;5;241;43m+\u001b[39;49m\u001b[38;5;241;43m1\u001b[39;49m\u001b[38;5;132;43;01m}\u001b[39;49;00m\u001b[38;5;124;43m]/div[2]/ul/li[3]/strong[2]\u001b[39;49m\u001b[38;5;124;43m'\u001b[39;49m\u001b[43m)\u001b[49m\u001b[38;5;241m.\u001b[39mtext)\n\u001b[0;32m     10\u001b[0m each_skill \u001b[38;5;241m=\u001b[39m job\u001b[38;5;241m.\u001b[39mfind_elements(By\u001b[38;5;241m.\u001b[39mCLASS_NAME, \u001b[38;5;124m\"\u001b[39m\u001b[38;5;124mair3-token\u001b[39m\u001b[38;5;124m\"\u001b[39m)\n\u001b[0;32m     11\u001b[0m \u001b[38;5;28;01mfor\u001b[39;00m items \u001b[38;5;129;01min\u001b[39;00m each_skill:\n",
      "File \u001b[1;32m~\\PycharmProjects\\pythonProject\\virtual_env_for_Django\\Lib\\site-packages\\selenium\\webdriver\\remote\\webelement.py:417\u001b[0m, in \u001b[0;36mWebElement.find_element\u001b[1;34m(self, by, value)\u001b[0m\n\u001b[0;32m    414\u001b[0m     by \u001b[38;5;241m=\u001b[39m By\u001b[38;5;241m.\u001b[39mCSS_SELECTOR\n\u001b[0;32m    415\u001b[0m     value \u001b[38;5;241m=\u001b[39m \u001b[38;5;124mf\u001b[39m\u001b[38;5;124m'\u001b[39m\u001b[38;5;124m[name=\u001b[39m\u001b[38;5;124m\"\u001b[39m\u001b[38;5;132;01m{\u001b[39;00mvalue\u001b[38;5;132;01m}\u001b[39;00m\u001b[38;5;124m\"\u001b[39m\u001b[38;5;124m]\u001b[39m\u001b[38;5;124m'\u001b[39m\n\u001b[1;32m--> 417\u001b[0m \u001b[38;5;28;01mreturn\u001b[39;00m \u001b[38;5;28;43mself\u001b[39;49m\u001b[38;5;241;43m.\u001b[39;49m\u001b[43m_execute\u001b[49m\u001b[43m(\u001b[49m\u001b[43mCommand\u001b[49m\u001b[38;5;241;43m.\u001b[39;49m\u001b[43mFIND_CHILD_ELEMENT\u001b[49m\u001b[43m,\u001b[49m\u001b[43m \u001b[49m\u001b[43m{\u001b[49m\u001b[38;5;124;43m\"\u001b[39;49m\u001b[38;5;124;43musing\u001b[39;49m\u001b[38;5;124;43m\"\u001b[39;49m\u001b[43m:\u001b[49m\u001b[43m \u001b[49m\u001b[43mby\u001b[49m\u001b[43m,\u001b[49m\u001b[43m \u001b[49m\u001b[38;5;124;43m\"\u001b[39;49m\u001b[38;5;124;43mvalue\u001b[39;49m\u001b[38;5;124;43m\"\u001b[39;49m\u001b[43m:\u001b[49m\u001b[43m \u001b[49m\u001b[43mvalue\u001b[49m\u001b[43m}\u001b[49m\u001b[43m)\u001b[49m[\u001b[38;5;124m\"\u001b[39m\u001b[38;5;124mvalue\u001b[39m\u001b[38;5;124m\"\u001b[39m]\n",
      "File \u001b[1;32m~\\PycharmProjects\\pythonProject\\virtual_env_for_Django\\Lib\\site-packages\\selenium\\webdriver\\remote\\webelement.py:395\u001b[0m, in \u001b[0;36mWebElement._execute\u001b[1;34m(self, command, params)\u001b[0m\n\u001b[0;32m    393\u001b[0m     params \u001b[38;5;241m=\u001b[39m {}\n\u001b[0;32m    394\u001b[0m params[\u001b[38;5;124m\"\u001b[39m\u001b[38;5;124mid\u001b[39m\u001b[38;5;124m\"\u001b[39m] \u001b[38;5;241m=\u001b[39m \u001b[38;5;28mself\u001b[39m\u001b[38;5;241m.\u001b[39m_id\n\u001b[1;32m--> 395\u001b[0m \u001b[38;5;28;01mreturn\u001b[39;00m \u001b[38;5;28;43mself\u001b[39;49m\u001b[38;5;241;43m.\u001b[39;49m\u001b[43m_parent\u001b[49m\u001b[38;5;241;43m.\u001b[39;49m\u001b[43mexecute\u001b[49m\u001b[43m(\u001b[49m\u001b[43mcommand\u001b[49m\u001b[43m,\u001b[49m\u001b[43m \u001b[49m\u001b[43mparams\u001b[49m\u001b[43m)\u001b[49m\n",
      "File \u001b[1;32m~\\PycharmProjects\\pythonProject\\virtual_env_for_Django\\Lib\\site-packages\\selenium\\webdriver\\remote\\webdriver.py:345\u001b[0m, in \u001b[0;36mWebDriver.execute\u001b[1;34m(self, driver_command, params)\u001b[0m\n\u001b[0;32m    343\u001b[0m response \u001b[38;5;241m=\u001b[39m \u001b[38;5;28mself\u001b[39m\u001b[38;5;241m.\u001b[39mcommand_executor\u001b[38;5;241m.\u001b[39mexecute(driver_command, params)\n\u001b[0;32m    344\u001b[0m \u001b[38;5;28;01mif\u001b[39;00m response:\n\u001b[1;32m--> 345\u001b[0m     \u001b[38;5;28;43mself\u001b[39;49m\u001b[38;5;241;43m.\u001b[39;49m\u001b[43merror_handler\u001b[49m\u001b[38;5;241;43m.\u001b[39;49m\u001b[43mcheck_response\u001b[49m\u001b[43m(\u001b[49m\u001b[43mresponse\u001b[49m\u001b[43m)\u001b[49m\n\u001b[0;32m    346\u001b[0m     response[\u001b[38;5;124m\"\u001b[39m\u001b[38;5;124mvalue\u001b[39m\u001b[38;5;124m\"\u001b[39m] \u001b[38;5;241m=\u001b[39m \u001b[38;5;28mself\u001b[39m\u001b[38;5;241m.\u001b[39m_unwrap_value(response\u001b[38;5;241m.\u001b[39mget(\u001b[38;5;124m\"\u001b[39m\u001b[38;5;124mvalue\u001b[39m\u001b[38;5;124m\"\u001b[39m, \u001b[38;5;28;01mNone\u001b[39;00m))\n\u001b[0;32m    347\u001b[0m     \u001b[38;5;28;01mreturn\u001b[39;00m response\n",
      "File \u001b[1;32m~\\PycharmProjects\\pythonProject\\virtual_env_for_Django\\Lib\\site-packages\\selenium\\webdriver\\remote\\errorhandler.py:229\u001b[0m, in \u001b[0;36mErrorHandler.check_response\u001b[1;34m(self, response)\u001b[0m\n\u001b[0;32m    227\u001b[0m         alert_text \u001b[38;5;241m=\u001b[39m value[\u001b[38;5;124m\"\u001b[39m\u001b[38;5;124malert\u001b[39m\u001b[38;5;124m\"\u001b[39m]\u001b[38;5;241m.\u001b[39mget(\u001b[38;5;124m\"\u001b[39m\u001b[38;5;124mtext\u001b[39m\u001b[38;5;124m\"\u001b[39m)\n\u001b[0;32m    228\u001b[0m     \u001b[38;5;28;01mraise\u001b[39;00m exception_class(message, screen, stacktrace, alert_text)  \u001b[38;5;66;03m# type: ignore[call-arg]  # mypy is not smart enough here\u001b[39;00m\n\u001b[1;32m--> 229\u001b[0m \u001b[38;5;28;01mraise\u001b[39;00m exception_class(message, screen, stacktrace)\n",
      "\u001b[1;31mNoSuchElementException\u001b[0m: Message: no such element: Unable to locate element: {\"method\":\"xpath\",\"selector\":\"//*[@id=\"main\"]/div/div/div/div[2]/div[3]/section/article[25]/div[2]/ul/li[3]/strong[2]\"}\n  (Session info: chrome=123.0.6312.86); For documentation on this error, please visit: https://www.selenium.dev/documentation/webdriver/troubleshooting/errors#no-such-element-exception\nStacktrace:\n\tGetHandleVerifier [0x00007FF7AB6870C2+63090]\n\t(No symbol) [0x00007FF7AB5F2D12]\n\t(No symbol) [0x00007FF7AB48EC65]\n\t(No symbol) [0x00007FF7AB4D499D]\n\t(No symbol) [0x00007FF7AB4D4ADC]\n\t(No symbol) [0x00007FF7AB4CA0AC]\n\t(No symbol) [0x00007FF7AB4F701F]\n\t(No symbol) [0x00007FF7AB4CA00A]\n\t(No symbol) [0x00007FF7AB4F71F0]\n\t(No symbol) [0x00007FF7AB513412]\n\t(No symbol) [0x00007FF7AB4F6D83]\n\t(No symbol) [0x00007FF7AB4C83A8]\n\t(No symbol) [0x00007FF7AB4C9441]\n\tGetHandleVerifier [0x00007FF7ABA8262D+4238301]\n\tGetHandleVerifier [0x00007FF7ABABF78D+4488509]\n\tGetHandleVerifier [0x00007FF7ABAB7A6F+4456479]\n\tGetHandleVerifier [0x00007FF7AB760606+953270]\n\t(No symbol) [0x00007FF7AB5FE5DF]\n\t(No symbol) [0x00007FF7AB5F92B4]\n\t(No symbol) [0x00007FF7AB5F93EB]\n\t(No symbol) [0x00007FF7AB5E9C24]\n\tBaseThreadInitThunk [0x00007FFF07B4257D+29]\n\tRtlUserThreadStart [0x00007FFF087EAA58+40]\n"
     ]
    }
   ],
   "source": [
    "\n",
    "for page_count in range(1, 101):\n",
    "    driver = webdriver.Chrome()\n",
    "    url = f\"https://www.upwork.com/nx/search/jobs/?amount=100-499%2C500-999%2C1000-4999%2C5000-&category2_uid=531770282580668418&duration_v3=months&page={page_count}&per_page=50&q=web&sort=recency&t=1\"\n",
    "    driver.get(url)\n",
    "    jobs = driver.find_elements(By.CLASS_NAME, jobs_class)\n",
    "    for article_count,job in enumerate(jobs):\n",
    "        skills = []\n",
    "        title.append(job.find_element(By.CLASS_NAME, job_title).text)\n",
    "        budget.append(job.find_element(By.XPATH, f'//*[@id=\"main\"]/div/div/div/div[2]/div[3]/section/article[{article_count+1}]/div[2]/ul/li[3]/strong[2]').text)\n",
    "        each_skill = job.find_elements(By.CLASS_NAME, \"air3-token\")\n",
    "        for items in each_skill:\n",
    "            skills.append(items.text)\n",
    "        skill_set.append(skills)\n",
    "        description.append(job.find_element(By.TAG_NAME, 'p').text)\n",
    "    driver.quit()\n",
    "        "
   ]
  },
  {
   "cell_type": "code",
   "execution_count": 97,
   "id": "a88a4b0a",
   "metadata": {},
   "outputs": [
    {
     "data": {
      "text/html": [
       "<div>\n",
       "<style scoped>\n",
       "    .dataframe tbody tr th:only-of-type {\n",
       "        vertical-align: middle;\n",
       "    }\n",
       "\n",
       "    .dataframe tbody tr th {\n",
       "        vertical-align: top;\n",
       "    }\n",
       "\n",
       "    .dataframe thead th {\n",
       "        text-align: right;\n",
       "    }\n",
       "</style>\n",
       "<table border=\"1\" class=\"dataframe\">\n",
       "  <thead>\n",
       "    <tr style=\"text-align: right;\">\n",
       "      <th></th>\n",
       "      <th>Job Title</th>\n",
       "      <th>Skill Set</th>\n",
       "      <th>Budget</th>\n",
       "      <th>Description</th>\n",
       "    </tr>\n",
       "  </thead>\n",
       "  <tbody>\n",
       "    <tr>\n",
       "      <th>0</th>\n",
       "      <td>Partnership with Software Developer for Bookin...</td>\n",
       "      <td>[Web Application, Flutter Stack, Cloud Computi...</td>\n",
       "      <td>$800.00</td>\n",
       "      <td>Rosenheim Technologies have a complete applica...</td>\n",
       "    </tr>\n",
       "    <tr>\n",
       "      <th>1</th>\n",
       "      <td>EXPERT Shopify for an online jewelry store</td>\n",
       "      <td>[Shopify]</td>\n",
       "      <td>$150.00</td>\n",
       "      <td>Hello, I am looking for a Shopify expert to cr...</td>\n",
       "    </tr>\n",
       "    <tr>\n",
       "      <th>2</th>\n",
       "      <td>Website Creation</td>\n",
       "      <td>[Web Design, Web Development, Landing Page, Cu...</td>\n",
       "      <td>$150.00</td>\n",
       "      <td>I have the theme and fundamentals regarding th...</td>\n",
       "    </tr>\n",
       "    <tr>\n",
       "      <th>3</th>\n",
       "      <td>Website for a Cannabis social club in Germany</td>\n",
       "      <td>[Mockup, Website, Adobe Photoshop, Adobe Illus...</td>\n",
       "      <td>$300.00</td>\n",
       "      <td>**RFP: Website Development for Social Cannabis...</td>\n",
       "    </tr>\n",
       "    <tr>\n",
       "      <th>4</th>\n",
       "      <td>Build a Fast responsive auction website</td>\n",
       "      <td>[Web Development, Web Design, WordPress, PHP, ...</td>\n",
       "      <td>$500.00</td>\n",
       "      <td>See attached document for the in depth view of...</td>\n",
       "    </tr>\n",
       "    <tr>\n",
       "      <th>...</th>\n",
       "      <td>...</td>\n",
       "      <td>...</td>\n",
       "      <td>...</td>\n",
       "      <td>...</td>\n",
       "    </tr>\n",
       "    <tr>\n",
       "      <th>3869</th>\n",
       "      <td>New Website - WordPress or Similar</td>\n",
       "      <td>[Web Development, Web Design, Mockup, WordPres...</td>\n",
       "      <td>$200.00</td>\n",
       "      <td>Build simple website for new property manageme...</td>\n",
       "    </tr>\n",
       "    <tr>\n",
       "      <th>3870</th>\n",
       "      <td>Web Developer Needs</td>\n",
       "      <td>[Web Development, Web Design, WordPress, JavaS...</td>\n",
       "      <td>$100.00</td>\n",
       "      <td>We r looking for web developer. A person shoul...</td>\n",
       "    </tr>\n",
       "    <tr>\n",
       "      <th>3871</th>\n",
       "      <td>UI/UX Designer and Developer</td>\n",
       "      <td>[Web Design, Prototyping, User Interface Desig...</td>\n",
       "      <td>$1,700.00</td>\n",
       "      <td>We are seeking a highly skilled UI/UX Designer...</td>\n",
       "    </tr>\n",
       "    <tr>\n",
       "      <th>3872</th>\n",
       "      <td>Looking for expert developer to add features a...</td>\n",
       "      <td>[Web Development, Google Chrome Extension, Jav...</td>\n",
       "      <td>$200.00</td>\n",
       "      <td>I am looking to add few features to my browser...</td>\n",
       "    </tr>\n",
       "    <tr>\n",
       "      <th>3873</th>\n",
       "      <td>Javascript app, authenticate google user, cont...</td>\n",
       "      <td>[Web Application, HTML5, Node.js, JavaScript]</td>\n",
       "      <td>$500.00</td>\n",
       "      <td>Small web app Google Auth Get user's youtube p...</td>\n",
       "    </tr>\n",
       "  </tbody>\n",
       "</table>\n",
       "<p>3874 rows × 4 columns</p>\n",
       "</div>"
      ],
      "text/plain": [
       "                                              Job Title  \\\n",
       "0     Partnership with Software Developer for Bookin...   \n",
       "1            EXPERT Shopify for an online jewelry store   \n",
       "2                                      Website Creation   \n",
       "3         Website for a Cannabis social club in Germany   \n",
       "4               Build a Fast responsive auction website   \n",
       "...                                                 ...   \n",
       "3869                 New Website - WordPress or Similar   \n",
       "3870                                Web Developer Needs   \n",
       "3871                       UI/UX Designer and Developer   \n",
       "3872  Looking for expert developer to add features a...   \n",
       "3873  Javascript app, authenticate google user, cont...   \n",
       "\n",
       "                                              Skill Set     Budget  \\\n",
       "0     [Web Application, Flutter Stack, Cloud Computi...    $800.00   \n",
       "1                                             [Shopify]    $150.00   \n",
       "2     [Web Design, Web Development, Landing Page, Cu...    $150.00   \n",
       "3     [Mockup, Website, Adobe Photoshop, Adobe Illus...    $300.00   \n",
       "4     [Web Development, Web Design, WordPress, PHP, ...    $500.00   \n",
       "...                                                 ...        ...   \n",
       "3869  [Web Development, Web Design, Mockup, WordPres...    $200.00   \n",
       "3870  [Web Development, Web Design, WordPress, JavaS...    $100.00   \n",
       "3871  [Web Design, Prototyping, User Interface Desig...  $1,700.00   \n",
       "3872  [Web Development, Google Chrome Extension, Jav...    $200.00   \n",
       "3873      [Web Application, HTML5, Node.js, JavaScript]    $500.00   \n",
       "\n",
       "                                            Description  \n",
       "0     Rosenheim Technologies have a complete applica...  \n",
       "1     Hello, I am looking for a Shopify expert to cr...  \n",
       "2     I have the theme and fundamentals regarding th...  \n",
       "3     **RFP: Website Development for Social Cannabis...  \n",
       "4     See attached document for the in depth view of...  \n",
       "...                                                 ...  \n",
       "3869  Build simple website for new property manageme...  \n",
       "3870  We r looking for web developer. A person shoul...  \n",
       "3871  We are seeking a highly skilled UI/UX Designer...  \n",
       "3872  I am looking to add few features to my browser...  \n",
       "3873  Small web app Google Auth Get user's youtube p...  \n",
       "\n",
       "[3874 rows x 4 columns]"
      ]
     },
     "execution_count": 97,
     "metadata": {},
     "output_type": "execute_result"
    }
   ],
   "source": [
    "dictionary = {'Job Title': title[:-1], 'Skill Set': skill_set, 'Budget': budget, 'Description': description}\n",
    "import pandas as pd\n",
    "df = pd.DataFrame(dictionary)\n",
    "df\n"
   ]
  },
  {
   "cell_type": "code",
   "execution_count": 95,
   "id": "6d4b7c44",
   "metadata": {},
   "outputs": [
    {
     "data": {
      "text/plain": [
       "3875"
      ]
     },
     "execution_count": 95,
     "metadata": {},
     "output_type": "execute_result"
    }
   ],
   "source": [
    "# jobs = driver.find_element(By.XPATH, title)\n",
    "len(title)\n"
   ]
  },
  {
   "cell_type": "code",
   "execution_count": 19,
   "id": "ffa95786",
   "metadata": {},
   "outputs": [
    {
     "name": "stdout",
     "output_type": "stream",
     "text": [
      "<selenium.webdriver.remote.webelement.WebElement (session=\"2095000ca323c249a67bd09f3b71f299\", element=\"f.6ACBD80462DE6EFAA5F14318EB571876.d.7103E1C17E74B88C6338EBBC11F8AE59.e.3150\")>\n"
     ]
    }
   ],
   "source": []
  },
  {
   "cell_type": "code",
   "execution_count": 94,
   "id": "771c1ea8",
   "metadata": {},
   "outputs": [
    {
     "data": {
      "text/plain": [
       "3874"
      ]
     },
     "execution_count": 94,
     "metadata": {},
     "output_type": "execute_result"
    }
   ],
   "source": [
    "len(skill_set)"
   ]
  },
  {
   "cell_type": "code",
   "execution_count": 96,
   "id": "52946742",
   "metadata": {},
   "outputs": [
    {
     "data": {
      "text/plain": [
       "3874"
      ]
     },
     "execution_count": 96,
     "metadata": {},
     "output_type": "execute_result"
    }
   ],
   "source": [
    "len(budget)"
   ]
  },
  {
   "cell_type": "code",
   "execution_count": 98,
   "id": "0827daf7",
   "metadata": {},
   "outputs": [],
   "source": [
    "df.to_csv('job_data.csv', index=False)"
   ]
  },
  {
   "cell_type": "code",
   "execution_count": null,
   "id": "928a3178",
   "metadata": {},
   "outputs": [],
   "source": []
  }
 ],
 "metadata": {
  "kernelspec": {
   "display_name": "Python 3 (ipykernel)",
   "language": "python",
   "name": "python3"
  },
  "language_info": {
   "codemirror_mode": {
    "name": "ipython",
    "version": 3
   },
   "file_extension": ".py",
   "mimetype": "text/x-python",
   "name": "python",
   "nbconvert_exporter": "python",
   "pygments_lexer": "ipython3",
   "version": "3.11.1"
  }
 },
 "nbformat": 4,
 "nbformat_minor": 5
}
